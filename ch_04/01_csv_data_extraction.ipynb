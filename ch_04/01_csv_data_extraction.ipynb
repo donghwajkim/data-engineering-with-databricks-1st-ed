{
 "cells": [
  {
   "cell_type": "markdown",
   "metadata": {
    "application/vnd.databricks.v1+cell": {
     "cellMetadata": {},
     "inputWidgets": {},
     "nuid": "54b53ca0-f42a-4844-ad30-b6c211465ce1",
     "showTitle": false,
     "tableResultSettingsMap": {},
     "title": ""
    }
   },
   "source": [
    "Refer to Apache Spark documentation on CSV files: https://spark.apache.org/docs/3.5.4/sql-data-sources-csv.html"
   ]
  },
  {
   "cell_type": "code",
   "execution_count": 0,
   "metadata": {
    "application/vnd.databricks.v1+cell": {
     "cellMetadata": {
      "byteLimit": 2048000,
      "rowLimit": 10000
     },
     "inputWidgets": {},
     "nuid": "cada2774-2124-4cb1-8929-ad3b5e799c72",
     "showTitle": false,
     "tableResultSettingsMap": {},
     "title": ""
    }
   },
   "outputs": [],
   "source": [
    "from pyspark.sql.types import *"
   ]
  },
  {
   "cell_type": "markdown",
   "metadata": {
    "application/vnd.databricks.v1+cell": {
     "cellMetadata": {},
     "inputWidgets": {},
     "nuid": "e9b73db9-4dc7-4c3d-b3c5-5afc7de70b60",
     "showTitle": false,
     "tableResultSettingsMap": {},
     "title": ""
    }
   },
   "source": [
    "## Reading in a CSV file without specifying the schema"
   ]
  },
  {
   "cell_type": "code",
   "execution_count": 0,
   "metadata": {
    "application/vnd.databricks.v1+cell": {
     "cellMetadata": {
      "byteLimit": 2048000,
      "rowLimit": 10000
     },
     "inputWidgets": {},
     "nuid": "3ba26c1d-412e-4b45-886a-c38b632e2705",
     "showTitle": false,
     "tableResultSettingsMap": {},
     "title": ""
    }
   },
   "outputs": [],
   "source": [
    "volume_path = \"/Volumes/de_with_databricks/bronze/ingest\"\n",
    "acs_profile_csv_path = f\"{volume_path}/ACS_Profile_Data_2022.csv\"\n",
    "acs_profile_df = spark.read.\\\n",
    "    options(delimiter=\",\", header=True)\\\n",
    "    .csv(acs_profile_csv_path)\n",
    "display(acs_profile_df)"
   ]
  },
  {
   "cell_type": "code",
   "execution_count": 0,
   "metadata": {
    "application/vnd.databricks.v1+cell": {
     "cellMetadata": {
      "byteLimit": 2048000,
      "rowLimit": 10000
     },
     "inputWidgets": {},
     "nuid": "610ab89c-2ec3-4a50-81cf-b85599d58a8c",
     "showTitle": false,
     "tableResultSettingsMap": {},
     "title": ""
    }
   },
   "outputs": [],
   "source": [
    "acs_profile_df.schema"
   ]
  },
  {
   "cell_type": "markdown",
   "metadata": {
    "application/vnd.databricks.v1+cell": {
     "cellMetadata": {},
     "inputWidgets": {},
     "nuid": "52824793-eee2-4db4-a6c4-5b08e92d0235",
     "showTitle": false,
     "tableResultSettingsMap": {},
     "title": ""
    }
   },
   "source": [
    "## Reading in CSV file using a schema definition"
   ]
  },
  {
   "cell_type": "code",
   "execution_count": 0,
   "metadata": {
    "application/vnd.databricks.v1+cell": {
     "cellMetadata": {
      "byteLimit": 2048000,
      "rowLimit": 10000
     },
     "inputWidgets": {},
     "nuid": "16977acf-05d0-4f72-93a3-990c670f689d",
     "showTitle": false,
     "tableResultSettingsMap": {},
     "title": ""
    }
   },
   "outputs": [],
   "source": [
    "asc_profile_schema = StructType(\n",
    "        [StructField('level', StringType(), True),\n",
    "         StructField('State_ID', StringType(), True),\n",
    "         StructField('state', StringType(), True),\n",
    "         StructField('FIPS', StringType(), True),\n",
    "         StructField('county', StringType(), True),\n",
    "         StructField('measure', StringType(), True),\n",
    "         StructField('year', IntegerType(), True),\n",
    "         StructField('period', StringType(), True),\n",
    "         StructField('numerator', StringType(), True),\n",
    "         StructField('denominator', StringType(), True),\n",
    "         StructField('value', DoubleType(), True),\n",
    "         StructField('label', StringType(), True)]\n",
    "    )\n",
    "\n",
    "acs_profile_df = spark.read.\\\n",
    "    options(delimiter=\",\", header=True)\\\n",
    "    .csv(acs_profile_csv_path, schema=asc_profile_schema)\n",
    "\n",
    "# You can also use the following:\n",
    "#  acs_profile_df = spark.read.format(\"csv\")\\\n",
    "#     .option(\"header\",\"true\")\\\n",
    "#     .load(acs_profile_csv_path, schema=asc_profile_schema)\n",
    "\n",
    "display(acs_profile_df.limit(10))"
   ]
  },
  {
   "cell_type": "code",
   "execution_count": 0,
   "metadata": {
    "application/vnd.databricks.v1+cell": {
     "cellMetadata": {
      "byteLimit": 2048000,
      "rowLimit": 10000
     },
     "inputWidgets": {},
     "nuid": "5643b709-5de0-4c96-8bae-a7887b4c38fb",
     "showTitle": false,
     "tableResultSettingsMap": {},
     "title": ""
    }
   },
   "outputs": [],
   "source": [
    "acs_profile_df.schema"
   ]
  },
  {
   "cell_type": "code",
   "execution_count": 0,
   "metadata": {
    "application/vnd.databricks.v1+cell": {
     "cellMetadata": {
      "byteLimit": 2048000,
      "rowLimit": 10000
     },
     "inputWidgets": {},
     "nuid": "b87a6313-b1cd-490e-b832-25f3ec1e5350",
     "showTitle": false,
     "tableResultSettingsMap": {},
     "title": ""
    }
   },
   "outputs": [],
   "source": [
    "%sh\n",
    "head -n 4 /Volumes/de_with_databricks/bronze/ingest/ACS_Profile_Data_2022.csv\n"
   ]
  },
  {
   "cell_type": "markdown",
   "metadata": {
    "application/vnd.databricks.v1+cell": {
     "cellMetadata": {},
     "inputWidgets": {},
     "nuid": "979f32c3-1470-4b68-a1d3-70c58685da32",
     "showTitle": false,
     "tableResultSettingsMap": {},
     "title": ""
    }
   },
   "source": [
    "## Removing the sub-header row from the ASC Profile CSV file - Method 1"
   ]
  },
  {
   "cell_type": "code",
   "execution_count": 0,
   "metadata": {
    "application/vnd.databricks.v1+cell": {
     "cellMetadata": {
      "byteLimit": 2048000,
      "rowLimit": 10000
     },
     "inputWidgets": {},
     "nuid": "7f312b7a-3c68-4df3-b55c-04752e0ac2af",
     "showTitle": false,
     "tableResultSettingsMap": {},
     "title": ""
    }
   },
   "outputs": [],
   "source": [
    "acs_profile_skip_rows_df = spark.read.format(\"csv\")\\\n",
    "    .option(\"skipRows\", 2)\\\n",
    "    .load(acs_profile_csv_path, schema=asc_profile_schema)\n",
    "display(acs_profile_skip_rows_df.limit(10))\n"
   ]
  },
  {
   "cell_type": "markdown",
   "metadata": {
    "application/vnd.databricks.v1+cell": {
     "cellMetadata": {},
     "inputWidgets": {},
     "nuid": "227a77f3-7e2f-4961-990c-9eacb298af6a",
     "showTitle": false,
     "tableResultSettingsMap": {},
     "title": ""
    }
   },
   "source": [
    "## Removing the sub-header row from the ASC Profile CSV file - Method 2"
   ]
  },
  {
   "cell_type": "code",
   "execution_count": 0,
   "metadata": {
    "application/vnd.databricks.v1+cell": {
     "cellMetadata": {
      "byteLimit": 2048000,
      "rowLimit": 10000
     },
     "inputWidgets": {},
     "nuid": "4c78fef5-b8c9-4b04-a401-f6a161086f8e",
     "showTitle": false,
     "tableResultSettingsMap": {},
     "title": ""
    }
   },
   "outputs": [],
   "source": [
    "from pyspark.sql.functions import monotonically_increasing_id\n",
    "\n",
    "acs_profile_remove_rows_df = spark.read.\\\n",
    "    options(delimiter=\",\", header=True)\\\n",
    "    .csv(acs_profile_csv_path, schema=asc_profile_schema)\\\n",
    "    .withColumn('id', monotonically_increasing_id())\n",
    "rows_to_remove = [0]\n",
    "acs_profile_remove_rows_df = acs_profile_remove_rows_df\\\n",
    "    .filter(~acs_profile_remove_rows_df.id.isin(rows_to_remove))"
   ]
  },
  {
   "cell_type": "code",
   "execution_count": 0,
   "metadata": {
    "application/vnd.databricks.v1+cell": {
     "cellMetadata": {
      "byteLimit": 2048000,
      "rowLimit": 10000
     },
     "inputWidgets": {},
     "nuid": "7dbae71d-208e-476a-aa5c-eb42318460b6",
     "showTitle": false,
     "tableResultSettingsMap": {},
     "title": ""
    }
   },
   "outputs": [],
   "source": [
    "display(acs_profile_remove_rows_df.limit(10))"
   ]
  },
  {
   "cell_type": "code",
   "execution_count": 0,
   "metadata": {
    "application/vnd.databricks.v1+cell": {
     "cellMetadata": {
      "byteLimit": 2048000,
      "rowLimit": 10000
     },
     "inputWidgets": {},
     "nuid": "51029c31-b18c-401c-83fa-046f7bfcc449",
     "showTitle": false,
     "tableResultSettingsMap": {},
     "title": ""
    }
   },
   "outputs": [],
   "source": [
    "acs_profile_df = acs_profile_remove_rows_df\n",
    "acs_profile_df.write.partitionBy(\"state\", \"county\").mode(\"overwrite\").saveAsTable(\"de_with_databricks.bronze.acs_profile1\")"
   ]
  },
  {
   "cell_type": "code",
   "execution_count": 0,
   "metadata": {
    "application/vnd.databricks.v1+cell": {
     "cellMetadata": {
      "byteLimit": 2048000,
      "implicitDf": true,
      "rowLimit": 10000
     },
     "inputWidgets": {},
     "nuid": "6d36dc65-580d-4df9-b0b5-902becae47fa",
     "showTitle": false,
     "tableResultSettingsMap": {},
     "title": ""
    }
   },
   "outputs": [],
   "source": [
    "%sql\n",
    "SELECT * FROM de_with_databricks.bronze.acs_profile1 LIMIT 10"
   ]
  },
  {
   "cell_type": "code",
   "execution_count": 0,
   "metadata": {
    "application/vnd.databricks.v1+cell": {
     "cellMetadata": {
      "byteLimit": 2048000,
      "rowLimit": 10000
     },
     "inputWidgets": {},
     "nuid": "bee3375a-f836-4f73-8d0f-ca704652ce5c",
     "showTitle": false,
     "tableResultSettingsMap": {},
     "title": ""
    }
   },
   "outputs": [],
   "source": [
    "acs_profile_df.createOrReplaceTempView(\"acs_profile_view\")"
   ]
  },
  {
   "cell_type": "code",
   "execution_count": 0,
   "metadata": {
    "application/vnd.databricks.v1+cell": {
     "cellMetadata": {
      "byteLimit": 2048000,
      "implicitDf": true,
      "rowLimit": 10000
     },
     "inputWidgets": {},
     "nuid": "8ba64506-9f06-4ffa-afb9-5b14706c7e79",
     "showTitle": false,
     "tableResultSettingsMap": {},
     "title": ""
    }
   },
   "outputs": [],
   "source": [
    "%sql\n",
    "CREATE TABLE de_with_databricks.bronze.acs_profile2 PARTITIONED BY (state, county) AS \n",
    "SELECT * FROM acs_profile_view;"
   ]
  },
  {
   "cell_type": "code",
   "execution_count": 0,
   "metadata": {
    "application/vnd.databricks.v1+cell": {
     "cellMetadata": {
      "byteLimit": 2048000,
      "implicitDf": true,
      "rowLimit": 10000
     },
     "inputWidgets": {},
     "nuid": "41042b5b-1657-4bd2-b11b-f2ade719bbbf",
     "showTitle": false,
     "tableResultSettingsMap": {},
     "title": ""
    }
   },
   "outputs": [],
   "source": [
    "%sql\n",
    "SELECT * FROM  de_with_databricks.bronze.acs_profile2 LIMIT 10"
   ]
  },
  {
   "cell_type": "code",
   "execution_count": 0,
   "metadata": {
    "application/vnd.databricks.v1+cell": {
     "cellMetadata": {
      "byteLimit": 2048000,
      "rowLimit": 10000
     },
     "inputWidgets": {},
     "nuid": "8b566f4d-9156-4f35-8301-fad862d8a2db",
     "showTitle": false,
     "tableResultSettingsMap": {},
     "title": ""
    }
   },
   "outputs": [],
   "source": [
    "create_table_sql = \"\"\"\n",
    "CREATE TABLE de_with_databricks.bronze.acs_profile3\n",
    "PARTITIONED BY (state, county) AS \n",
    "SELECT * FROM acs_profile_view;\n",
    "\"\"\"\n",
    "spark.sql(create_table_sql)"
   ]
  },
  {
   "cell_type": "code",
   "execution_count": 0,
   "metadata": {
    "application/vnd.databricks.v1+cell": {
     "cellMetadata": {
      "byteLimit": 2048000,
      "implicitDf": true,
      "rowLimit": 10000
     },
     "inputWidgets": {},
     "nuid": "121e7e0b-03e6-4e89-a029-4897d401d311",
     "showTitle": false,
     "tableResultSettingsMap": {},
     "title": ""
    }
   },
   "outputs": [],
   "source": [
    "%sql\n",
    "SELECT * FROM de_with_databricks.bronze.acs_profile3 LIMIT 10"
   ]
  },
  {
   "cell_type": "code",
   "execution_count": 0,
   "metadata": {
    "application/vnd.databricks.v1+cell": {
     "cellMetadata": {},
     "inputWidgets": {},
     "nuid": "90c5e0b3-2186-41fc-b353-164300f8a5b5",
     "showTitle": false,
     "tableResultSettingsMap": {},
     "title": ""
    }
   },
   "outputs": [],
   "source": []
  }
 ],
 "metadata": {
  "application/vnd.databricks.v1+notebook": {
   "computePreferences": null,
   "dashboards": [],
   "environmentMetadata": {
    "base_environment": "",
    "environment_version": "2"
   },
   "language": "python",
   "notebookMetadata": {
    "mostRecentlyExecutedCommandWithImplicitDF": {
     "commandId": 7146003096139301,
     "dataframes": [
      "_sqldf"
     ]
    },
    "pythonIndentUnit": 4
   },
   "notebookName": "01_csv_data_extraction",
   "widgets": {}
  },
  "language_info": {
   "name": "python"
  }
 },
 "nbformat": 4,
 "nbformat_minor": 0
}
