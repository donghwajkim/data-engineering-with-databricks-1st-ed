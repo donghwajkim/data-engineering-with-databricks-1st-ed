{
 "cells": [
  {
   "cell_type": "code",
   "execution_count": 0,
   "metadata": {
    "application/vnd.databricks.v1+cell": {
     "cellMetadata": {
      "byteLimit": 2048000,
      "rowLimit": 10000
     },
     "inputWidgets": {},
     "nuid": "eec123ef-2fb5-4501-b3a8-378d0da56e69",
     "showTitle": false,
     "tableResultSettingsMap": {},
     "title": ""
    }
   },
   "outputs": [],
   "source": [
    "import requests\n",
    "import json\n",
    "\n",
    "from databricks.sdk import WorkspaceClient"
   ]
  },
  {
   "cell_type": "markdown",
   "metadata": {
    "application/vnd.databricks.v1+cell": {
     "cellMetadata": {},
     "inputWidgets": {},
     "nuid": "d832c988-3262-4199-bb55-e83c5da82398",
     "showTitle": false,
     "tableResultSettingsMap": {},
     "title": ""
    }
   },
   "source": [
    "## Creating a directory under a Unity Catalog Volume"
   ]
  },
  {
   "cell_type": "code",
   "execution_count": 0,
   "metadata": {
    "application/vnd.databricks.v1+cell": {
     "cellMetadata": {
      "byteLimit": 2048000,
      "rowLimit": 10000
     },
     "inputWidgets": {},
     "nuid": "79112d41-8356-48e9-8e39-edbfe80db3f4",
     "showTitle": false,
     "tableResultSettingsMap": {},
     "title": ""
    }
   },
   "outputs": [],
   "source": [
    "w = WorkspaceClient()\n",
    "# Define volume, folder, and file details.\n",
    "catalog = 'de_with_databricks'\n",
    "schema = 'bronze'\n",
    "volume = 'ingest'\n",
    "\n",
    "# /Volumes/de_with_databricks/bronze/ingest\n",
    "volume_path = f\"/Volumes/{catalog}/{schema}/{volume}\"\n",
    "volume_folder = 'synthea_50'\n",
    "volume_folder_path = f\"{volume_path}/{volume_folder}\"\n",
    "patient_file = 'Patient.ndjson'\n",
    "patient_file_path = f\"{volume_folder_path}/{patient_file}\"\n",
    "\n",
    "# Create a new directory within the volume.\n",
    "w.files.create_directory(volume_folder_path)"
   ]
  },
  {
   "cell_type": "markdown",
   "metadata": {
    "application/vnd.databricks.v1+cell": {
     "cellMetadata": {},
     "inputWidgets": {},
     "nuid": "3a50f887-4b6d-4078-8d57-53466feaa2c7",
     "showTitle": false,
     "tableResultSettingsMap": {},
     "title": ""
    }
   },
   "source": [
    "## Retrieving a FHIR Patient resource JSON file"
   ]
  },
  {
   "cell_type": "code",
   "execution_count": 0,
   "metadata": {
    "application/vnd.databricks.v1+cell": {
     "cellMetadata": {
      "byteLimit": 2048000,
      "rowLimit": 10000
     },
     "inputWidgets": {},
     "nuid": "2e716033-67f4-4df6-b6aa-4e00f93c0027",
     "showTitle": false,
     "tableResultSettingsMap": {},
     "title": ""
    }
   },
   "outputs": [],
   "source": [
    "# Retrieve the patient New-Line Delineated (NDJSON) file \n",
    "# from the book's Github repository\n",
    "patient_url = \"https://raw.githubusercontent.com/\" + \\\n",
    "  \"donghwajkim/data-engineering-with-databricks-1st-ed/\" + \\\n",
    "  \"refs/heads/main/data/synthea/50/fhir/Patient.ndjson\"\n",
    "response = requests.get(patient_url, stream=True)\n",
    "w.files.upload(patient_file_path, response.content, overwrite = True)\n",
    "\n",
    "patient_json_df = spark.read.format(\"json\").load(patient_file_path)"
   ]
  },
  {
   "cell_type": "code",
   "execution_count": 0,
   "metadata": {
    "application/vnd.databricks.v1+cell": {
     "cellMetadata": {
      "byteLimit": 2048000,
      "rowLimit": 10000
     },
     "inputWidgets": {},
     "nuid": "25bdfc3d-c830-4856-b5e9-c452366c64d5",
     "showTitle": false,
     "tableResultSettingsMap": {},
     "title": ""
    }
   },
   "outputs": [],
   "source": [
    "display(patient_json_df.limit(10))"
   ]
  },
  {
   "cell_type": "code",
   "execution_count": 0,
   "metadata": {
    "application/vnd.databricks.v1+cell": {
     "cellMetadata": {
      "byteLimit": 2048000,
      "rowLimit": 10000
     },
     "inputWidgets": {},
     "nuid": "e7562cb7-dec9-4d79-b084-d34abb957bd9",
     "showTitle": false,
     "tableResultSettingsMap": {},
     "title": ""
    }
   },
   "outputs": [],
   "source": [
    "patient_json_df.printSchema()"
   ]
  },
  {
   "cell_type": "code",
   "execution_count": 0,
   "metadata": {
    "application/vnd.databricks.v1+cell": {
     "cellMetadata": {
      "byteLimit": 2048000,
      "rowLimit": 10000
     },
     "inputWidgets": {},
     "nuid": "b5399bec-e7a7-4892-b1ed-2690217f81f6",
     "showTitle": false,
     "tableResultSettingsMap": {},
     "title": ""
    }
   },
   "outputs": [],
   "source": [
    "from pyspark.sql import functions as F\n",
    "from pyspark.sql.functions import col\n",
    "\n",
    "patient_df = \\\n",
    "    patient_json_df\\\n",
    "        .selectExpr(\n",
    "            \"id as patient_id\",\n",
    "            \"name[0].family as last_name\",\n",
    "            \"name[0].given[0] as first_name\",\n",
    "            \"address[0].line[0] as address_line1\",            \n",
    "            \"address[0].city as city\", \n",
    "            \"address[0].state as state\",\n",
    "            \"address[0].postalCode as zipcode\",\n",
    "            \"telecom[0].value as telephone_no\",\n",
    "            \"birthDate as birth_date\",\n",
    "            \"maritalStatus.text as marital_status\",\n",
    "            \"gender\",\n",
    "            \"deceasedDateTime as death_date_time\"            \n",
    "        )"
   ]
  },
  {
   "cell_type": "code",
   "execution_count": 0,
   "metadata": {
    "application/vnd.databricks.v1+cell": {
     "cellMetadata": {
      "byteLimit": 2048000,
      "rowLimit": 10000
     },
     "inputWidgets": {},
     "nuid": "cb7f3b18-3139-4973-b1da-c124d3621a8b",
     "showTitle": false,
     "tableResultSettingsMap": {},
     "title": ""
    }
   },
   "outputs": [],
   "source": [
    "display(patient_df.limit(10))"
   ]
  },
  {
   "cell_type": "code",
   "execution_count": 0,
   "metadata": {
    "application/vnd.databricks.v1+cell": {
     "cellMetadata": {
      "byteLimit": 2048000,
      "rowLimit": 10000
     },
     "inputWidgets": {},
     "nuid": "8a2dbf22-d421-4a44-a590-fdffed37eb42",
     "showTitle": false,
     "tableResultSettingsMap": {},
     "title": ""
    }
   },
   "outputs": [],
   "source": [
    "spark.sql(\"DROP TABLE IF EXISTS de_with_databricks.bronze.patient\")\n",
    "\n",
    "patient_df.write\\\n",
    "  .clusterBy(\"city\", \"state\")\\\n",
    "  .mode(\"overwrite\")\\\n",
    "  .saveAsTable(\n",
    "    \"de_with_databricks.bronze.patient\")"
   ]
  },
  {
   "cell_type": "code",
   "execution_count": 0,
   "metadata": {
    "application/vnd.databricks.v1+cell": {
     "cellMetadata": {
      "byteLimit": 2048000,
      "implicitDf": true,
      "rowLimit": 10000
     },
     "inputWidgets": {},
     "nuid": "e47ebe94-0a52-40a5-ae4b-8b1fee07fb33",
     "showTitle": false,
     "tableResultSettingsMap": {},
     "title": ""
    }
   },
   "outputs": [],
   "source": [
    "%sql\n",
    "SELECT * FROM de_with_databricks.bronze.patient LIMIT 10"
   ]
  },
  {
   "cell_type": "markdown",
   "metadata": {
    "application/vnd.databricks.v1+cell": {
     "cellMetadata": {},
     "inputWidgets": {},
     "nuid": "7db3cc33-0dbd-44c4-985d-48d7b1250b6f",
     "showTitle": false,
     "tableResultSettingsMap": {},
     "title": ""
    }
   },
   "source": [
    "## Create a reusable function for parsing FHIR JSON Patient Resources"
   ]
  },
  {
   "cell_type": "code",
   "execution_count": 0,
   "metadata": {
    "application/vnd.databricks.v1+cell": {
     "cellMetadata": {
      "byteLimit": 2048000,
      "rowLimit": 10000
     },
     "inputWidgets": {},
     "nuid": "eb560254-6fcd-4da1-93fe-6f4723904a36",
     "showTitle": false,
     "tableResultSettingsMap": {},
     "title": ""
    }
   },
   "outputs": [],
   "source": [
    "import os\n",
    "import time\n",
    "\n",
    "def get_patient_df(fhir_patient_url):\n",
    "    response = requests.get(fhir_patient_url, stream=True)\n",
    "\n",
    "    # Note we assume simple 'file_name.extention' format\n",
    "    file_name_ext_list = os.path.basename(fhir_patient_url).split('.')\n",
    "    file_name = file_name_ext_list[0]\n",
    "    file_ext = file_name_ext_list[-1]\n",
    "\n",
    "    # Save the content as a file with the timestamp in the\n",
    "    # Unity Catalog volume path\n",
    "    current_timestamp_ms = int(round(time.time() * 1000))\n",
    "    temp_patient_file = f\"{file_name}_{current_timestamp_ms}.{file_ext}\"\n",
    "    temp_patient_file_path = f\"{volume_folder_path}/{temp_patient_file}\"\n",
    "    w.files.upload(temp_patient_file_path, response.content, overwrite = True)\n",
    "\n",
    "    new_patient_json_df = spark.read.format(\"json\").load(temp_patient_file_path)    \n",
    "    return new_patient_json_df.selectExpr(\n",
    "            \"id as patient_id\",\n",
    "            \"name[0].family as last_name\",\n",
    "            \"name[0].given[0] as first_name\",\n",
    "            \"address[0].line[0] as address_line1\",            \n",
    "            \"address[0].city as city\", \n",
    "            \"address[0].state as state\",\n",
    "            \"address[0].postalCode as zipcode\",\n",
    "            \"telecom[0].value as telephone_no\",\n",
    "            \"birthDate as birth_date\",\n",
    "            \"maritalStatus.text as marital_status\",\n",
    "            \"gender\",\n",
    "            \"deceasedDateTime as death_date_time\"            \n",
    "        )"
   ]
  },
  {
   "cell_type": "markdown",
   "metadata": {
    "application/vnd.databricks.v1+cell": {
     "cellMetadata": {},
     "inputWidgets": {},
     "nuid": "6a50dafa-8a61-4d92-a44a-19909f72e2da",
     "showTitle": false,
     "tableResultSettingsMap": {},
     "title": ""
    }
   },
   "source": [
    "## Ingesting daily incremental patient data"
   ]
  },
  {
   "cell_type": "code",
   "execution_count": 0,
   "metadata": {
    "application/vnd.databricks.v1+cell": {
     "cellMetadata": {
      "byteLimit": 2048000,
      "rowLimit": 10000
     },
     "inputWidgets": {},
     "nuid": "72c38706-e9a2-48bf-ba2e-82a2033e8330",
     "showTitle": false,
     "tableResultSettingsMap": {},
     "title": ""
    }
   },
   "outputs": [],
   "source": [
    "new_patient_file_url = \\\n",
    "    \"https://raw.githubusercontent.com/donghwajkim/\" + \\\n",
    "    \"data-engineering-with-databricks-1st-ed/refs/heads\" + \\\n",
    "    \"/main/data/synthea/10/fhir/Patient.ndjson\"\n",
    "\n",
    "new_patient_df = get_patient_df(new_patient_file_url)"
   ]
  },
  {
   "cell_type": "code",
   "execution_count": 0,
   "metadata": {
    "application/vnd.databricks.v1+cell": {
     "cellMetadata": {
      "byteLimit": 2048000,
      "rowLimit": 10000
     },
     "inputWidgets": {},
     "nuid": "ae6d0928-323e-45ca-8d6c-ddb05ec28774",
     "showTitle": false,
     "tableResultSettingsMap": {},
     "title": ""
    }
   },
   "outputs": [],
   "source": [
    "display(new_patient_df)"
   ]
  },
  {
   "cell_type": "markdown",
   "metadata": {
    "application/vnd.databricks.v1+cell": {
     "cellMetadata": {},
     "inputWidgets": {},
     "nuid": "9c71bf0f-a079-4a4f-bf75-703b1597a18c",
     "showTitle": false,
     "tableResultSettingsMap": {},
     "title": ""
    }
   },
   "source": [
    "### Using Python"
   ]
  },
  {
   "cell_type": "code",
   "execution_count": 0,
   "metadata": {
    "application/vnd.databricks.v1+cell": {
     "cellMetadata": {
      "byteLimit": 2048000,
      "rowLimit": 10000
     },
     "inputWidgets": {},
     "nuid": "599f4021-93ca-41a4-9d4f-48fb945840f4",
     "showTitle": false,
     "tableResultSettingsMap": {},
     "title": ""
    }
   },
   "outputs": [],
   "source": [
    "from delta.tables import *\n",
    "\n",
    "patient_table = DeltaTable.forName(spark, \"de_with_databricks.bronze.patient\")\n",
    "\n",
    "update_result_df = patient_table.alias('patient') \\\n",
    "  .merge(\n",
    "    new_patient_df.alias('patient_update'),\n",
    "    'patient.patient_id = patient_update.patient_id'\n",
    "  ) \\\n",
    "  .whenMatchedUpdate(set =\n",
    "    {\n",
    "      \"patient_id\": \"patient_update.patient_id\",\n",
    "      \"last_name\": \"patient_update.last_name\",\n",
    "      \"first_name\": \"patient_update.first_name\",\n",
    "      \"address_line1\": \"patient_update.address_line1\",\n",
    "      \"city\": \"patient_update.city\",\n",
    "      \"state\": \"patient_update.state\",\n",
    "      \"zipcode\": \"patient_update.zipcode\",\n",
    "      \"telephone_no\": \"patient_update.telephone_no\",\n",
    "      \"birth_date\": \"patient_update.birth_date\",\n",
    "      \"marital_status\": \"patient_update.marital_status\",\n",
    "      \"gender\": \"patient_update.gender\",\n",
    "      \"death_date_time\": \"patient_update.death_date_time\"\n",
    "    }\n",
    "  ) \\\n",
    "  .whenNotMatchedInsert(values =\n",
    "    {\n",
    "      \"patient_id\": \"patient_update.patient_id\",\n",
    "      \"last_name\": \"patient_update.last_name\",\n",
    "      \"first_name\": \"patient_update.first_name\",\n",
    "      \"address_line1\": \"patient_update.address_line1\",\n",
    "      \"city\": \"patient_update.city\",\n",
    "      \"state\": \"patient_update.state\",\n",
    "      \"zipcode\": \"patient_update.zipcode\",\n",
    "      \"telephone_no\": \"patient_update.telephone_no\",\n",
    "      \"birth_date\": \"patient_update.birth_date\",\n",
    "      \"marital_status\": \"patient_update.marital_status\",\n",
    "      \"gender\": \"patient_update.gender\",\n",
    "      \"death_date_time\": \"patient_update.death_date_time\"\n",
    "    }\n",
    "  ) \\\n",
    "  .execute()\n",
    "\n",
    "display(update_result_df)"
   ]
  },
  {
   "cell_type": "code",
   "execution_count": 0,
   "metadata": {
    "application/vnd.databricks.v1+cell": {
     "cellMetadata": {
      "byteLimit": 2048000,
      "implicitDf": true,
      "rowLimit": 10000
     },
     "inputWidgets": {},
     "nuid": "4042c8a8-51a0-40c1-bec9-507dea4ca24c",
     "showTitle": false,
     "tableResultSettingsMap": {},
     "title": ""
    }
   },
   "outputs": [],
   "source": [
    "%sql\n",
    "SELECT * FROM de_with_databricks.bronze.patient LIMIT 10"
   ]
  },
  {
   "cell_type": "markdown",
   "metadata": {
    "application/vnd.databricks.v1+cell": {
     "cellMetadata": {},
     "inputWidgets": {},
     "nuid": "2779fa76-8461-4779-9e6b-43c28c847cd7",
     "showTitle": false,
     "tableResultSettingsMap": {},
     "title": ""
    }
   },
   "source": [
    "### Using SQL"
   ]
  },
  {
   "cell_type": "code",
   "execution_count": 0,
   "metadata": {
    "application/vnd.databricks.v1+cell": {
     "cellMetadata": {
      "byteLimit": 2048000,
      "rowLimit": 10000
     },
     "inputWidgets": {},
     "nuid": "b44b429e-d0fb-485f-b627-286ac8be160b",
     "showTitle": false,
     "tableResultSettingsMap": {},
     "title": ""
    }
   },
   "outputs": [],
   "source": [
    "spark.sql(\"DROP TABLE IF EXISTS de_with_databricks.bronze.patient\")\n",
    "\n",
    "patient_df.write\\\n",
    "  .clusterBy(\"city\", \"state\")\\\n",
    "  .mode(\"overwrite\")\\\n",
    "  .saveAsTable(\n",
    "    \"de_with_databricks.bronze.patient\")"
   ]
  },
  {
   "cell_type": "code",
   "execution_count": 0,
   "metadata": {
    "application/vnd.databricks.v1+cell": {
     "cellMetadata": {
      "byteLimit": 2048000,
      "rowLimit": 10000
     },
     "inputWidgets": {},
     "nuid": "026fe2da-1434-41dd-ab7d-45e0cd1a20ce",
     "showTitle": false,
     "tableResultSettingsMap": {},
     "title": ""
    }
   },
   "outputs": [],
   "source": [
    "new_patient_df.createOrReplaceTempView(\"patient_update\")\n",
    "\n",
    "merge_sql = \"\"\"\n",
    "MERGE INTO de_with_databricks.bronze.patient\n",
    "USING patient_update\n",
    "ON patient.patient_id = patient_update.patient_id\n",
    "WHEN MATCHED THEN\n",
    "  UPDATE SET\n",
    "    patient_id = patient_update.patient_id,\n",
    "    last_name = patient_update.last_name,\n",
    "    first_name = patient_update.first_name,\n",
    "    address_line1 = patient_update.address_line1,\n",
    "    city = patient_update.city,\n",
    "    state = patient_update.state,\n",
    "    zipcode = patient_update.zipcode,\n",
    "    telephone_no = patient_update.telephone_no,\n",
    "    birth_date = patient_update.birth_date,\n",
    "    marital_status = patient_update.marital_status,\n",
    "    gender = patient_update.gender,\n",
    "    death_date_time = patient_update.death_date_time\n",
    "WHEN NOT MATCHED\n",
    "  THEN INSERT (\n",
    "    patient_id,\n",
    "    last_name,\n",
    "    first_name,\n",
    "    address_line1,\n",
    "    city,\n",
    "    state,\n",
    "    zipcode,\n",
    "    telephone_no,\n",
    "    birth_date,\n",
    "    marital_status,\n",
    "    gender,\n",
    "    death_date_time\n",
    "  )\n",
    "  VALUES (\n",
    "    patient_update.patient_id,\n",
    "    patient_update.last_name,\n",
    "    patient_update.first_name,\n",
    "    patient_update.address_line1,\n",
    "    patient_update.city,\n",
    "    patient_update.state,\n",
    "    patient_update.zipcode,\n",
    "    patient_update.telephone_no,\n",
    "    patient_update.birth_date,\n",
    "    patient_update.marital_status,\n",
    "    patient_update.gender,\n",
    "    patient_update.death_date_time\n",
    "  )\n",
    "\"\"\"\n",
    "\n",
    "update_result_df = spark.sql(merge_sql)\n",
    "\n",
    "display(update_result_df)"
   ]
  },
  {
   "cell_type": "code",
   "execution_count": 0,
   "metadata": {
    "application/vnd.databricks.v1+cell": {
     "cellMetadata": {
      "byteLimit": 2048000,
      "implicitDf": true,
      "rowLimit": 10000
     },
     "inputWidgets": {},
     "nuid": "1701f4b0-3f1d-475f-84b8-33b66dd5a88b",
     "showTitle": false,
     "tableResultSettingsMap": {},
     "title": ""
    }
   },
   "outputs": [],
   "source": [
    "%sql\n",
    "SELECT * FROM de_with_databricks.bronze.patient LIMIT 10"
   ]
  }
 ],
 "metadata": {
  "application/vnd.databricks.v1+notebook": {
   "computePreferences": null,
   "dashboards": [],
   "environmentMetadata": {
    "base_environment": "",
    "environment_version": "2"
   },
   "language": "python",
   "notebookMetadata": {
    "mostRecentlyExecutedCommandWithImplicitDF": {
     "commandId": 8805401627996510,
     "dataframes": [
      "_sqldf"
     ]
    },
    "pythonIndentUnit": 4
   },
   "notebookName": "02_json_data_extraction",
   "widgets": {}
  },
  "language_info": {
   "name": "python"
  }
 },
 "nbformat": 4,
 "nbformat_minor": 0
}
